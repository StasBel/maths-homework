{
 "cells": [
  {
   "cell_type": "code",
   "execution_count": 1,
   "metadata": {},
   "outputs": [],
   "source": [
    "import math\n",
    "from scipy import stats\n",
    "import numpy as np\n",
    "import matplotlib.pyplot as plt\n",
    "\n",
    "def plot(x, y):\n",
    "    plt.xlabel('n')\n",
    "    plt.ylabel('length')\n",
    "    plt.plot(x, y)\n",
    "    plt.show()\n",
    "    \n",
    "    \n",
    "THETA = 0\n",
    "SIGMA2 = 1\n",
    "\n",
    "GAMMA = 0.5\n",
    "N = 50"
   ]
  },
  {
   "cell_type": "markdown",
   "metadata": {},
   "source": [
    "### First distribution\n",
    "The length of the interval tends to 0"
   ]
  },
  {
   "cell_type": "code",
   "execution_count": 2,
   "metadata": {},
   "outputs": [
    {
     "data": {
      "image/png": "[encoded data removed]",
      "text/plain": [
       "<matplotlib.figure.Figure at 0x2b5162e01128>"
      ]
     },
     "metadata": {},
     "output_type": "display_data"
    }
   ],
   "source": [
    "def get_interval_1(x, gamma):\n",
    "    z_r = stats.chi2.ppf((1 + gamma) / 2, len(x), loc=0, scale=1)\n",
    "    z_l = stats.chi2.ppf((1 - gamma) / 2, len(x), loc=0, scale=1)\n",
    "    \n",
    "    M = np.sum((x - THETA) ** 2)\n",
    "    return np.sqrt(M / z_r), np.sqrt(M / z_l)\n",
    "\n",
    "\n",
    "x = np.linspace(10, 500, N)\n",
    "y = np.zeros(N)\n",
    "\n",
    "for i in np.arange(N):\n",
    "    l, r = get_interval_1(np.random.normal(loc=THETA, scale=SIGMA2, size=int(x[i])), GAMMA)\n",
    "    y[i] = r - l\n",
    "    \n",
    "plot(x, y)"
   ]
  },
  {
   "cell_type": "markdown",
   "metadata": {},
   "source": [
    "### Second distribution\n",
    "The length of the interval **doesn't** tend to 0"
   ]
  },
  {
   "cell_type": "code",
   "execution_count": 3,
   "metadata": {},
   "outputs": [
    {
     "data": {
      "text/plain": [
       "2.7686224063606257"
      ]
     },
     "execution_count": 3,
     "metadata": {},
     "output_type": "execute_result"
    }
   ],
   "source": [
    "# \\sigma >= |M| / z\n",
    "def get_interval_2(x, gamma):\n",
    "    z = stats.norm.ppf((1 + gamma) / 2, loc=0, scale=1)\n",
    "    M = math.sqrt(len(x)) * (np.average(x) - THETA)\n",
    "    \n",
    "    return abs(M) / z\n",
    "\n",
    "get_interval_2(np.random.normal(loc=THETA, scale=SIGMA2, size=10), GAMMA)"
   ]
  }
 ],
 "metadata": {
  "kernelspec": {
   "display_name": "Python 3",
   "language": "python",
   "name": "python3"
  },
  "language_info": {
   "codemirror_mode": {
    "name": "ipython",
    "version": 3
   },
   "file_extension": ".py",
   "mimetype": "text/x-python",
   "name": "python",
   "nbconvert_exporter": "python",
   "pygments_lexer": "ipython3",
   "version": "3.6.1"
  }
 },
 "nbformat": 4,
 "nbformat_minor": 1
}
