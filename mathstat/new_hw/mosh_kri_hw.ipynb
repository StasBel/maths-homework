{
 "cells": [
  {
   "cell_type": "markdown",
   "metadata": {},
   "source": [
    "# Мощности критериев"
   ]
  },
  {
   "cell_type": "code",
   "execution_count": 70,
   "metadata": {
    "collapsed": true
   },
   "outputs": [],
   "source": [
    "%matplotlib inline\n",
    "import math\n",
    "import numpy as np\n",
    "import scipy.stats as ss\n",
    "import matplotlib.pyplot as plt\n",
    "from functools import partial"
   ]
  },
  {
   "cell_type": "markdown",
   "metadata": {},
   "source": [
    "## task1"
   ]
  },
  {
   "cell_type": "markdown",
   "metadata": {},
   "source": [
    "Мощность для критерия колмогорова:"
   ]
  },
  {
   "cell_type": "code",
   "execution_count": 270,
   "metadata": {},
   "outputs": [
    {
     "data": {
      "text/plain": [
       "0.99850000000000005"
      ]
     },
     "execution_count": 270,
     "metadata": {},
     "output_type": "execute_result"
    }
   ],
   "source": [
    "def kg_power_t1(n, *, tetta1, tetta2, sigmasq=1, eps=0.05):\n",
    "    X = np.array([ss.kstest(partial(ss.norm.rvs, loc=tetta2, scale=math.sqrt(sigmasq)),\n",
    "                            partial(ss.norm.cdf, loc=tetta1, scale=math.sqrt(sigmasq)), N=n)[1] \n",
    "                  for _ in range(int(n / eps))])\n",
    "    return (X <= eps).sum() / len(X)\n",
    "\n",
    "\n",
    "kg_power_t1(500, tetta1=0, tetta2=0.25)"
   ]
  },
  {
   "cell_type": "markdown",
   "metadata": {},
   "source": [
    "Рассмотрим критерий Пирсона для первой задачи. Посчитаем вероятность ошибки второго рода при верной второй гипотезе. Логарифмируем отношение под вероятностью (бпо, $\\theta_2 > \\theta_1$):\n",
    "$$-\\frac{(\\theta_2 - \\theta_1)}{2 \\sigma^2} \\sum\\limits_{i=1}^{n}{(\\theta_1 + \\theta_2 - 2x_i)} \\leqslant \\log(C)$$\n",
    "$$\\frac{(\\theta_2 - \\theta_1)}{\\sigma^2} \\sum\\limits_{i=1}^{n}{x_i} \\leqslant \\log(C) + \\frac{n (\\theta_2 - \\theta_1) (\\theta_2 + \\theta_1)}{2 \\sigma^2}$$\n",
    "$$\\sum\\limits_{i=1}^{n}{x_i} \\leqslant \\frac{\\log(C) \\sigma^2}{(\\theta_2 - \\theta_1)} + \\frac{n (\\theta_2 + \\theta_1)}{2}$$\n",
    "А сумма нормальных случайных величин - нормальная случайная величина. Надо найти $C$ при заданном $\\epsilon$:\n",
    "$$P_{H_1}(\\sum\\limits_{i=1}^{n}{x_i} \\geqslant \\frac{\\log(C) \\sigma^2}{(\\theta_2 - \\theta_1)} + \\frac{n (\\theta_2 + \\theta_1)}{2}) = \\epsilon$$\n",
    "А это квантиль нормального распределения (заодно мы нашли $\\frac{\\log(C) \\sigma^2}{(\\theta_2 - \\theta_1)} + \\frac{n (\\theta_2 + \\theta_1)}{2}$):"
   ]
  },
  {
   "cell_type": "code",
   "execution_count": 253,
   "metadata": {},
   "outputs": [
    {
     "data": {
      "text/plain": [
       "0.99996015264797433"
      ]
     },
     "execution_count": 253,
     "metadata": {},
     "output_type": "execute_result"
    }
   ],
   "source": [
    "def np_power_t1(n, *, tetta1, tetta2, sigmasq=1, eps=0.05):\n",
    "    if tetta2 > tetta1:\n",
    "        x = ss.norm.isf(eps, loc=n * tetta1, scale=math.sqrt(n * sigmasq))\n",
    "        A = ss.norm.cdf(x, loc=n * tetta2, scale=math.sqrt(n * sigmasq))\n",
    "    else:\n",
    "        x = ss.norm.ppf(eps, loc=n * tetta1, scale=math.sqrt(n * sigmasq))\n",
    "        A = ss.norm.sf(x, loc=n * tetta2, scale=math.sqrt(n * sigmasq))\n",
    "    return 1 - A\n",
    "\n",
    "\n",
    "np_power_t1(500, tetta1=0, tetta2=0.25)"
   ]
  },
  {
   "cell_type": "markdown",
   "metadata": {},
   "source": [
    "Строим графики:"
   ]
  },
  {
   "cell_type": "code",
   "execution_count": 269,
   "metadata": {},
   "outputs": [
    {
     "data": {
      "image/png": "[encoded data removed]",
      "text/plain": [
       "<matplotlib.figure.Figure at 0x113e5e780>"
      ]
     },
     "metadata": {},
     "output_type": "display_data"
    }
   ],
   "source": [
    "tetta1, tetta2 = 0, 0.25\n",
    "k = 30\n",
    "X = np.linspace(1, 200, num=k).astype(np.int)\n",
    "plt.plot(X, [kg_power_t1(x, tetta1=tetta1, tetta2=tetta2) for x in X], label=\"kg\")\n",
    "plt.plot(X, [np_power_t1(x, tetta1=tetta1, tetta2=tetta2) for x in X], label=\"np\")\n",
    "plt.legend()\n",
    "plt.yscale(\"log\")"
   ]
  },
  {
   "cell_type": "markdown",
   "metadata": {},
   "source": [
    "## task2"
   ]
  },
  {
   "cell_type": "markdown",
   "metadata": {},
   "source": [
    "Мощность для критерия колмогорова:"
   ]
  },
  {
   "cell_type": "code",
   "execution_count": 278,
   "metadata": {},
   "outputs": [
    {
     "data": {
      "text/plain": [
       "0.98899999999999999"
      ]
     },
     "execution_count": 278,
     "metadata": {},
     "output_type": "execute_result"
    }
   ],
   "source": [
    "def kg_power_t2(n, *, tetta1, tetta2, eps=0.05):\n",
    "    X = np.array([ss.kstest(partial(ss.expon.rvs, scale=1 / tetta2),\n",
    "                            partial(ss.expon.cdf, scale=1 / tetta1), N=n)[1] \n",
    "                  for _ in range(int(n / eps))])\n",
    "    return (X <= eps).sum() / len(X)\n",
    "\n",
    "\n",
    "kg_power_t2(50, tetta1=0.5, tetta2=1)"
   ]
  },
  {
   "cell_type": "markdown",
   "metadata": {},
   "source": [
    "Аналогично первой задаче, получаем:\n",
    "$$\\sum\\limits_{i=1}^{n}{x_i} \\leqslant \\frac{\\log(C) - n \\log{\\frac{\\theta_2}{\\theta_1}}}{\\theta_1 - \\theta_2}$$\n",
    "Величина слева распределена согласно Гамма распределению. Проделываем тот же трюк:"
   ]
  },
  {
   "cell_type": "code",
   "execution_count": 281,
   "metadata": {},
   "outputs": [
    {
     "data": {
      "text/plain": [
       "0.99970220447453428"
      ]
     },
     "execution_count": 281,
     "metadata": {},
     "output_type": "execute_result"
    }
   ],
   "source": [
    "def np_power_t2(n, *, tetta1, tetta2, eps=0.05):\n",
    "    if tetta1 > tetta2:\n",
    "        x = ss.gamma.isf(eps, a=n, scale=1 / tetta1)\n",
    "        A = ss.gamma.cdf(x, a=n, scale=1 / tetta2)\n",
    "    else:\n",
    "        x = ss.gamma.ppf(eps, a=n, scale=1 / tetta1)\n",
    "        A = ss.gamma.sf(x, a=n, scale=1 / tetta2)\n",
    "    return 1 - A\n",
    "\n",
    "\n",
    "np_power_t2(50, tetta1=0.5, tetta2=1)"
   ]
  },
  {
   "cell_type": "markdown",
   "metadata": {},
   "source": [
    "Строим графики:"
   ]
  },
  {
   "cell_type": "code",
   "execution_count": 284,
   "metadata": {},
   "outputs": [
    {
     "data": {
      "image/png": "[encoded data removed]",
      "text/plain": [
       "<matplotlib.figure.Figure at 0x114628eb8>"
      ]
     },
     "metadata": {},
     "output_type": "display_data"
    }
   ],
   "source": [
    "tetta1, tetta2 = 0.5, 0.75\n",
    "k = 30\n",
    "X = np.linspace(1, 100, num=k).astype(np.int)\n",
    "plt.plot(X, [kg_power_t2(x, tetta1=tetta1, tetta2=tetta2) for x in X], label=\"kg\")\n",
    "plt.plot(X, [np_power_t2(x, tetta1=tetta1, tetta2=tetta2) for x in X], label=\"np\")\n",
    "plt.legend()\n",
    "plt.yscale(\"log\")"
   ]
  },
  {
   "cell_type": "markdown",
   "metadata": {},
   "source": [
    "## task3"
   ]
  },
  {
   "cell_type": "markdown",
   "metadata": {},
   "source": [
    "Мощность для критерия хи-2:"
   ]
  },
  {
   "cell_type": "code",
   "execution_count": 352,
   "metadata": {},
   "outputs": [
    {
     "data": {
      "text/plain": [
       "0.97499999999999998"
      ]
     },
     "execution_count": 352,
     "metadata": {},
     "output_type": "execute_result"
    }
   ],
   "source": [
    "def k2_power_t3(n, *, tetta1, tetta2, eps=0.05):\n",
    "    f_exp, m, prev, points, k = [], n, 0, [], 0\n",
    "    while True:\n",
    "        k += 1\n",
    "        this = ss.poisson.cdf(k, mu=tetta1)\n",
    "        t = int(round((this - prev) * n))\n",
    "        m -= t\n",
    "        prev = this\n",
    "        if t != 0:\n",
    "            points.append(k)\n",
    "            f_exp.append(t)\n",
    "        else:\n",
    "            break\n",
    "    else:\n",
    "        f_exp.append(m)\n",
    "    points = points[:-1]\n",
    "    p_values = []\n",
    "    for _ in range(int(n / eps)):\n",
    "        X = ss.poisson.rvs(mu=tetta2, size=n)\n",
    "        f_obs, total = [], 0\n",
    "        for k in points:\n",
    "            this = (X <= k).sum()\n",
    "            f_obs.append(this - total)\n",
    "            total = this\n",
    "        f_obs.append(len(X) - total)\n",
    "        p_values.append(ss.chisquare(f_obs, f_exp)[1])\n",
    "    p_values = np.array(p_values)\n",
    "    return (p_values <= eps).sum() / len(p_values)\n",
    "\n",
    "\n",
    "k2_power_t3(100, tetta1=1, tetta2=1.5)"
   ]
  },
  {
   "cell_type": "markdown",
   "metadata": {},
   "source": [
    "Аналогично первым двум, получаем:"
   ]
  },
  {
   "cell_type": "code",
   "execution_count": 346,
   "metadata": {},
   "outputs": [
    {
     "data": {
      "text/plain": [
       "0.99697563626377983"
      ]
     },
     "execution_count": 346,
     "metadata": {},
     "output_type": "execute_result"
    }
   ],
   "source": [
    "def np_power_t3(n, *, tetta1, tetta2, eps=0.05):\n",
    "    if tetta2 > tetta1:\n",
    "        x = ss.poisson.isf(eps, mu=n * tetta1)\n",
    "        A = ss.poisson.cdf(x, mu=n * tetta2)\n",
    "    else:\n",
    "        x = ss.poisson.ppf(eps, mu=n * tetta1)\n",
    "        A = ss.poisson.sf(x, mu=n * tetta2)\n",
    "    return 1 - A\n",
    "\n",
    "\n",
    "np_power_t3(100, tetta1=1, tetta2=1.5)"
   ]
  },
  {
   "cell_type": "markdown",
   "metadata": {},
   "source": [
    "И граффики:"
   ]
  },
  {
   "cell_type": "code",
   "execution_count": 354,
   "metadata": {},
   "outputs": [
    {
     "data": {
      "image/png": "[encoded data removed]",
      "text/plain": [
       "<matplotlib.figure.Figure at 0x11484cba8>"
      ]
     },
     "metadata": {},
     "output_type": "display_data"
    }
   ],
   "source": [
    "tetta1, tetta2 = 1, 1.5\n",
    "k = 30\n",
    "X = np.linspace(10, 100, num=k).astype(np.int)\n",
    "plt.plot(X, [k2_power_t3(x, tetta1=tetta1, tetta2=tetta2) for x in X], label=\"k2\")\n",
    "plt.plot(X, [np_power_t3(x, tetta1=tetta1, tetta2=tetta2) for x in X], label=\"np\")\n",
    "plt.legend()\n",
    "plt.yscale(\"log\")"
   ]
  },
  {
   "cell_type": "markdown",
   "metadata": {},
   "source": [
    "## final words\n",
    "Как видно на всех трех графиках - мощность критерия Неймана-Пирсона больше, чем у остальных критериев."
   ]
  }
 ],
 "metadata": {
  "kernelspec": {
   "display_name": "Python 3",
   "language": "python",
   "name": "python3"
  },
  "language_info": {
   "codemirror_mode": {
    "name": "ipython",
    "version": 3
   },
   "file_extension": ".py",
   "mimetype": "text/x-python",
   "name": "python",
   "nbconvert_exporter": "python",
   "pygments_lexer": "ipython3",
   "version": "3.6.1"
  }
 },
 "nbformat": 4,
 "nbformat_minor": 2
}
